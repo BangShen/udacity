{
 "cells": [
  {
   "cell_type": "markdown",
   "metadata": {},
   "source": [
    "# <center>Report on OpenStreetMap Data Cleaning Project</center>\n",
    "# Contents\n",
    "* Map area\n",
    "* Data Overview\n",
    "    * ** *Files size* **: know the size of the selected file\n",
    "    * ** *Tags number* **: know how many tags in the files\n",
    "* Data cleaning\n",
    "    * **Main problems of data**\n",
    "    * **Results after updating**\n",
    "* Data Exploration from sql data\n",
    "    * **Size of files**\n",
    "    * **Top 10 contributing users of Beijing map**\n",
    "    * **Hutong numbers in Beijing**\n",
    "    * **Source distribution**\n",
    "   \n",
    "* Problems encountered and solutions\n",
    "* Other ideas about this data set\n",
    "* Conclusions"
   ]
  },
  {
   "cell_type": "markdown",
   "metadata": {},
   "source": [
    "# Map area"
   ]
  },
  {
   "cell_type": "markdown",
   "metadata": {},
   "source": [
    "**Beijing, China**\n",
    "\n",
    "Beijing is the capital of China with a lot of acient buildings and modern good-designed architectures. I would like to explore some information about our great capital.<br>\n",
    "The link of this file is: [link](https://mapzen.com/data/metro-extracts/metro/beijing_china/)"
   ]
  },
  {
   "cell_type": "markdown",
   "metadata": {},
   "source": [
    "# Data Overview"
   ]
  },
  {
   "cell_type": "markdown",
   "metadata": {},
   "source": [
    "* <font size =4>**Files Size** <font><br>\n",
    "The size of the file is <font color = 'blue' size = 3>**164 megabytes**</font>, this is qualified with the requirement of udacity course"
   ]
  },
  {
   "cell_type": "code",
   "execution_count": 60,
   "metadata": {},
   "outputs": [
    {
     "name": "stdout",
     "output_type": "stream",
     "text": [
      "beijing_china.osm:164 MB\n"
     ]
    }
   ],
   "source": [
    "import os\n",
    "print ('beijing_china.osm:{} MB'.format(os.path.getsize('beijing_china.osm') >> 20))"
   ]
  },
  {
   "cell_type": "markdown",
   "metadata": {},
   "source": [
    "* <font size = 4>**Tags number** </font><br>\n",
    "Before cleanig data, I want to have a overview of data that I have, the first thing I wanna check is tags number, and which is counting by this function named count_tag()<br>\n",
    "**Outputs:**<br>\n",
    "<font color = 'blue' size=3>**{'osm': 1,\n",
    " 'bounds': 1,\n",
    " 'node': 777694,\n",
    " 'tag': 339853,\n",
    " 'way': 115041,\n",
    " 'nd': 928128,\n",
    " 'relation': 5601,\n",
    " 'member': 60922}**<font>"
   ]
  },
  {
   "cell_type": "code",
   "execution_count": null,
   "metadata": {},
   "outputs": [],
   "source": [
    "def count_tags(filename):\n",
    "    tags = {}\n",
    "    taglist = []\n",
    "    for _,elem in ET.iterparse(filename,events=('start',)):\n",
    "        taglist.append(elem.tag)\n",
    "    for tag in taglist:\n",
    "        if tag not in tags:\n",
    "            tags[tag] = 1\n",
    "        else:\n",
    "            tags[tag] += 1\n",
    "    return tags"
   ]
  },
  {
   "cell_type": "markdown",
   "metadata": {},
   "source": [
    "# Data cleaning process\n",
    "\n",
    "\n",
    "### 1. Main problems of data\n",
    "- **Way and node names**: There are a lot of way names, most of are in Chinese, but some are in English and Pinyin, such as <font color=blue>**Rongxian Hutong and Embassy of Germany**</font> , those names need to be converted into Chinese characters for further exploration.\n",
    "- **Phone format problems**: some phone is written as <font color = blue>'01087671788'</font>,but another is writen as <font color = blue>'+86 010 69618888'</font>\n",
    "- **Node sourse**: samples node sourse is like <font color = blue>'{'Bing', 'GPX', 'bing', 'gps','Bing, 2005-04'}'</font>\n",
    "- **Cuisine**: samples cuisine is like <font color = blue>'{'american;burger', 'chinese', 'german'}'</font>,which will changed to country name"
   ]
  },
  {
   "cell_type": "markdown",
   "metadata": {},
   "source": [
    "### 2.Data cleaning function\n",
    "The function used in the part is shown as below, names of nodes and ways in pinyin will be repalce into Chinese charactes, such as 'Rongxian Hutong' will be changed into 'Rongxian 胡同', translating pinyin into Chinese is tricky, so I did nothing with that, and actually, I pay more attention to the type of a node or way(such as '胡同' or '公路') instead of it's special name.   "
   ]
  },
  {
   "cell_type": "code",
   "execution_count": 1,
   "metadata": {},
   "outputs": [],
   "source": [
    "# functions for updating cuisine phone and source of ways or nodes\n",
    "def mapping(name,mapping_dict):\n",
    "    name_list = name.split()\n",
    "    if name_list[-1] in mapping_dict:\n",
    "        name_list[-1] = mapping_dict[name_list[-1]]\n",
    "        return ' '.join(name_list)\n",
    "mapping_dict = {\n",
    "    'Road':'路',\n",
    "    'Expressway':'高速公路',\n",
    "    'Lu':'路',\n",
    "    'lu':'路',\n",
    "    'Hutong':'胡同',\n",
    "    'hutong':'胡同',\n",
    "    'Embassy':'大使馆',\n",
    "    'Coffee':'咖啡厅'\n",
    "}\n",
    "\n",
    "def update_cuisine(cuisine):\n",
    "    return cuisine.split(';')[0]\n",
    "def update_phone(phone):\n",
    "    if len(phone) == 8:\n",
    "        return '+86010'+phone\n",
    "    elif len(phone) == 11:\n",
    "        return '+86'+phone\n",
    "    elif len(phone) >11:\n",
    "        return phone.replace(' ','')\n",
    "    elif len(phone) <8:\n",
    "        return 'Error'+'+'+phone\n",
    "    elif len(phone) >8 and len(phone) < 11:\n",
    "        return 'Error'+'+'+phone\n",
    "def update_source(source):\n",
    "    import re\n",
    "    sourcename = re.split(r'[,;. ]',source)\n",
    "    sourcename_0 = sourcename[0]\n",
    "    reg_bing = re.compile(re.escape('bing'), re.IGNORECASE)\n",
    "    reg_gps = re.compile(re.escape('gps'), re.IGNORECASE)\n",
    "    reg_yahoo = re.compile(re.escape('yahoo'), re.IGNORECASE)\n",
    "    reg_survey = re.compile(re.escape('survey'), re.IGNORECASE)\n",
    "    sourcename_0 = reg_bing.sub('Bing', sourcename_0)\n",
    "    sourcename_0 = reg_gps.sub('GPS', sourcename_0)\n",
    "    sourcename_0 = reg_yahoo.sub('Yahoo', sourcename_0)\n",
    "    sourcename_0 = reg_survey.sub('Survey', sourcename_0)\n",
    "    if sourcename_0 not in ['Bing','GPS','Yahoo','Survey']:\n",
    "        sourcename_0 = 'other'\n",
    "    return sourcename_0"
   ]
  },
  {
   "cell_type": "markdown",
   "metadata": {},
   "source": [
    "### 3.Results after updating\n",
    "The data after cleaning via **update_functions** will be saved to the database:\n",
    "* **source**:There are lots of sources, I just clean main source such as bing, gps etc. but some other source like 'local' and 'map.sogou.com' are also been found, those source can be classified as 'others'.\n",
    "* **phone**:The phone format here is more complex than what I thought, I did not do much work on this since few things can be done by phone number analysis."
   ]
  },
  {
   "cell_type": "code",
   "execution_count": 53,
   "metadata": {
    "scrolled": true
   },
   "outputs": [
    {
     "data": {
      "text/plain": [
       "[('Bing', 3319), ('Yahoo', 1027), ('GPS', 371), ('other', 226), ('Survey', 35)]"
      ]
     },
     "execution_count": 53,
     "metadata": {},
     "output_type": "execute_result"
    }
   ],
   "source": [
    "# source updating, \n",
    "import sqlite3\n",
    "conn = sqlite3.connect('p3_project.db')\n",
    "c = conn.cursor()\n",
    "c.execute('select value,count(*) as num from ways_tags where key = \"source\" group by value order by num desc').fetchall()"
   ]
  },
  {
   "cell_type": "code",
   "execution_count": 55,
   "metadata": {},
   "outputs": [
    {
     "data": {
      "text/plain": [
       "[('+861065822892',),\n",
       " ('(010)64629112',),\n",
       " ('+8601051696505',),\n",
       " ('+86-10-60712288',),\n",
       " ('68716285;62555813',),\n",
       " ('+8613601135725/+861051357212',),\n",
       " ('+861051357212',),\n",
       " ('+861064428833',),\n",
       " ('+861063016688',),\n",
       " ('+86-10-64169999',)]"
      ]
     },
     "execution_count": 55,
     "metadata": {},
     "output_type": "execute_result"
    }
   ],
   "source": [
    "# phone updating\n",
    "c.execute('select value as num from nodes_tags where key = \"phone\" limit 10').fetchall()"
   ]
  },
  {
   "cell_type": "markdown",
   "metadata": {},
   "source": [
    "## Data Exploration from sql data"
   ]
  },
  {
   "cell_type": "markdown",
   "metadata": {},
   "source": [
    "### Size of files"
   ]
  },
  {
   "cell_type": "code",
   "execution_count": 63,
   "metadata": {},
   "outputs": [
    {
     "name": "stdout",
     "output_type": "stream",
     "text": [
      "beijing_china.osm:164 MB\n",
      "p3_project.db:87 MB\n",
      "ways.csv:6 MB\n",
      "ways_nodes:21 MB\n",
      "ways_tags:7 MB\n",
      "nodes_tags:2 MB\n",
      "nodes:60 MB\n"
     ]
    }
   ],
   "source": [
    "print ('beijing_china.osm:{} MB'.format(os.path.getsize('beijing_china.osm') >> 20))\n",
    "print ('p3_project.db:{} MB'.format(os.path.getsize('p3_project.db') >> 20))\n",
    "print ('ways.csv:{} MB'.format(os.path.getsize('ways.csv') >> 20))\n",
    "print ('ways_nodes:{} MB'.format(os.path.getsize('ways_nodes.csv') >> 20))\n",
    "print ('ways_tags:{} MB'.format(os.path.getsize('ways_tags.csv') >> 20))\n",
    "print('nodes_tags:{} MB'.format(os.path.getsize('nodes_tags.csv') >> 20))\n",
    "print ('nodes:{} MB'.format(os.path.getsize('nodes.csv') >> 20))"
   ]
  },
  {
   "cell_type": "markdown",
   "metadata": {},
   "source": [
    "### Top 10 contributing users of Beijing map"
   ]
  },
  {
   "cell_type": "code",
   "execution_count": 51,
   "metadata": {},
   "outputs": [
    {
     "data": {
      "text/plain": [
       "[('Chen Jia', 198317),\n",
       " ('R438', 148126),\n",
       " ('hanchao', 66845),\n",
       " ('ij_', 52041),\n",
       " ('katpatuka', 23674),\n",
       " ('m17design', 21795),\n",
       " ('Esperanza36', 18399),\n",
       " ('nuklearerWintersturm', 17041),\n",
       " ('RationalTangle', 14089),\n",
       " ('Алекс Мок', 10621)]"
      ]
     },
     "execution_count": 51,
     "metadata": {},
     "output_type": "execute_result"
    }
   ],
   "source": [
    "#calculate the top 10 contributors for nodes of beijing map\n",
    "sql_user = 'select distinct(user), count(*) as num\\\n",
    "            from (select id,user,uid from nodes\\\n",
    "            union \\\n",
    "            select id,user,uid from ways)\\\n",
    "            group by user\\\n",
    "            order by num desc\\\n",
    "            limit 10'\n",
    "c.execute(sql_user).fetchall()"
   ]
  },
  {
   "cell_type": "markdown",
   "metadata": {},
   "source": [
    "### Hutong numbers in Beijing"
   ]
  },
  {
   "cell_type": "code",
   "execution_count": 35,
   "metadata": {},
   "outputs": [
    {
     "data": {
      "text/plain": [
       "641"
      ]
     },
     "execution_count": 35,
     "metadata": {},
     "output_type": "execute_result"
    }
   ],
   "source": [
    "# total hutong numbers in Beijing\n",
    "sql_user = ('select distinct(value) from nodes_tags where value like \"%胡同\"\\\n",
    "            union\\\n",
    "            select distinct(value) from ways_tags where value like \"%胡同\"')\n",
    "len(c.execute(sql_user).fetchall())"
   ]
  },
  {
   "cell_type": "markdown",
   "metadata": {},
   "source": [
    "### Source distribution"
   ]
  },
  {
   "cell_type": "code",
   "execution_count": 64,
   "metadata": {
    "scrolled": true
   },
   "outputs": [
    {
     "data": {
      "text/plain": [
       "[('Bing', 3319), ('Yahoo', 1027), ('GPS', 371), ('other', 226), ('Survey', 35)]"
      ]
     },
     "execution_count": 64,
     "metadata": {},
     "output_type": "execute_result"
    }
   ],
   "source": [
    "# source distribution\n",
    "sql_user = 'select distinct(value),count(*) as num\\\n",
    "            from ways_tags\\\n",
    "            where key = \"source\"\\\n",
    "            group by value\\\n",
    "            order by num desc'\n",
    "c.execute(sql_user).fetchall()"
   ]
  },
  {
   "cell_type": "markdown",
   "metadata": {},
   "source": [
    "## Problems encountered in this project\n",
    "### 1. How to deal with Chinese characters\n",
    "It is inavoidable that some Chinese character is shown in Beijing map. The problem is that some are in English character but other are in Chinese, for example, the meaning of<font color = blue>** Hutong**</font> is <font color =blue>**胡同**</font>, this case is typical, so I just replace 'hutong' with '胡同'. But it is tricky to translate Chinese pinying to Chinese, hence I did not translate pinying to Chines \n",
    "### 2. How to translate English into Chinese\n",
    "I search this question online, and find that a python library named **goslate** is a common translate api, so I install it just by pip install. **but I recognized that goslate can not tranlate pinyin into Chinese characters**, goslate will do nothing when encountering strings written by pinyin and English. Lastly, I have to replace those characters by mapping function.\n",
    "### 3. Blank lines between CSV each rows\n",
    "The first time I try parse OSM file and convert it into CSV file, I found the **there are blanks between two data lines** when I open it by Excel, and then I google this question, and found [this answer](https://stackoverflow.com/questions/3348460/csv-file-written-with-python-has-blank-lines-between-each-row/3348664).  \n",
    "### 4. Other links used\n",
    " * Element introduction: [wiki](https://wiki.openstreetmap.org/wiki/Elements)\n"
   ]
  },
  {
   "cell_type": "markdown",
   "metadata": {},
   "source": [
    "# Other ideas about the data set"
   ]
  },
  {
   "cell_type": "markdown",
   "metadata": {},
   "source": [
    "### Suggestions"
   ]
  },
  {
   "cell_type": "markdown",
   "metadata": {},
   "source": [
    "1. Suggestions on imporving the data set\n",
    "    * **Phone format should be previously set**: In the process of data viewing of this data set, I have noticed that the phone    format is varied, even some of them are wrong. The format should be set as like <font color = blue>\"+86 010[hint: 8 number of the phone]\"</font>.\n",
    "    * **Node tags**: In this dataset, node tags such as cuisine, name, amenity are written in either English or Chinese or pinying, this will be tough for me to clear three different kinds of data. The suggestion on this issue is add a hint while users putting the information and prompt them do not use pinying.\n",
    "    \n",
    "    \n",
    "2. Suggstions on analysing this data set\n",
    "\n",
    "    * Lots of information could be analyzed by using map data, such as some statistical analysis like how many cuisines and hotels here in Beijing, we can also try to visualized those information on the map.\n",
    "    * Check the integrity of the map data by using other map data."
   ]
  },
  {
   "cell_type": "markdown",
   "metadata": {},
   "source": [
    "### pros and cons"
   ]
  },
  {
   "cell_type": "markdown",
   "metadata": {},
   "source": [
    "1. Phone format should be previously set:\n",
    "    * pros: most of phones will be in uniform format.\n",
    "    * cons: no cons\n",
    "    * expections: phone formats will not as dirty as the data in this dataset.\n",
    "2. node tags\n",
    "    * pros: no pinying presents in the data\n",
    "    * cons: some people will encounter the situation of unknowing the chinese characters, if that, they will give a wrong character.\n",
    "    * expection: English can be easily translated to Chinese, so this part will be easy to deal with\n",
    "3. visualize the information on the map\n",
    "    * pros: More interesting insights can be found by visualing the info.(such as cuision, school and hotels, etc.) on the map, by this.\n",
    "    * cons: if the map is not complete, it will convey wrong info. to us"
   ]
  },
  {
   "cell_type": "markdown",
   "metadata": {},
   "source": [
    "# Conclusions"
   ]
  },
  {
   "cell_type": "markdown",
   "metadata": {},
   "source": [
    "<font size = 3>By those project, I found the main problem of this beijing openstreetmap is its disunity. One way or node could be described by English, Chinese or pinying, apparently this would increase the difficulty of data cleaning process. Another problem is phone format which is various in this case, but for me I am not interesting about the phone, that is why I did not do much work on this.<br/>\n",
    "    <br/>\n",
    "  \n",
    "Back to the whole process:<br>\n",
    "The key procedures are following:\n",
    "   * Parse the xml file and save the data to a dictionary, the data clean process occurs in this part, the function is shape_element()\n",
    "   * Transfer data in dictionary to csv files\n",
    "   * Save csv files to sql by pandas to_sql modules\n",
    "\n",
    "<br>\n",
    "Last but not least, have faith in yourself, I originally should submit this project long time ago, but I thought it is too difficult for me to solve, so I started to learn other course and leaving this course no the half way. After finishing most of course of udacity, I return back to conquer this course. But now I solve this problems and clean the data from xml file and then save the data to database successfully, I also can make it!"
   ]
  },
  {
   "cell_type": "code",
   "execution_count": null,
   "metadata": {},
   "outputs": [],
   "source": []
  }
 ],
 "metadata": {
  "anaconda-cloud": {},
  "kernelspec": {
   "display_name": "Python 3",
   "language": "python",
   "name": "python3"
  },
  "language_info": {
   "codemirror_mode": {
    "name": "ipython",
    "version": 3
   },
   "file_extension": ".py",
   "mimetype": "text/x-python",
   "name": "python",
   "nbconvert_exporter": "python",
   "pygments_lexer": "ipython3",
   "version": "3.6.5"
  }
 },
 "nbformat": 4,
 "nbformat_minor": 1
}
