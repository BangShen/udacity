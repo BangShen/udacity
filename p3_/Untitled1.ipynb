{
 "cells": [
  {
   "cell_type": "code",
   "execution_count": 1,
   "metadata": {},
   "outputs": [],
   "source": [
    "import xml.etree.ElementTree as ET\n",
    "article_file = \"exampleResearchArticle.xml\""
   ]
  },
  {
   "cell_type": "code",
   "execution_count": 2,
   "metadata": {},
   "outputs": [],
   "source": [
    "def get_root(file):\n",
    "    tree = ET.parse(file)\n",
    "    return tree.getroot()\n",
    "root = get_root(article_file)"
   ]
  },
  {
   "cell_type": "code",
   "execution_count": 3,
   "metadata": {},
   "outputs": [
    {
     "data": {
      "text/plain": [
       "'2052-1847-5-9'"
      ]
     },
     "execution_count": 3,
     "metadata": {},
     "output_type": "execute_result"
    }
   ],
   "source": [
    "root.find('ui').text"
   ]
  },
  {
   "cell_type": "code",
   "execution_count": 4,
   "metadata": {},
   "outputs": [
    {
     "name": "stdout",
     "output_type": "stream",
     "text": [
      "[<Element 'au' at 0x000001D01ED5E408>, <Element 'au' at 0x000001D01ED5E598>, <Element 'au' at 0x000001D01ED5E728>, <Element 'au' at 0x000001D01ED5E908>, <Element 'au' at 0x000001D01ED5EAE8>, <Element 'au' at 0x000001D01ED5EC78>, <Element 'au' at 0x000001D01ED5EEA8>, <Element 'au' at 0x000001D01ED83098>]\n"
     ]
    }
   ],
   "source": [
    "print (root.findall('./fm/bibl/aug/au'))"
   ]
  },
  {
   "cell_type": "code",
   "execution_count": 5,
   "metadata": {},
   "outputs": [],
   "source": [
    "def get_au(root):\n",
    "    authors = []\n",
    "    data = {'snm':None,\n",
    "           'fnm':None,\n",
    "           'email':None}\n",
    "    au = root.findall('./fm/bibl/aug/au')\n",
    "    for name in au:\n",
    "        data['snm'] = name.find('./snm').text\n",
    "        data['fnm'] = name.find('./fnm').text\n",
    "        data['email'] = name.find('./email').text\n",
    "        print (data)\n",
    "        authors.append(data)\n",
    "    return authors\n",
    "   # print (authors)"
   ]
  },
  {
   "cell_type": "code",
   "execution_count": 74,
   "metadata": {},
   "outputs": [
    {
     "name": "stdout",
     "output_type": "stream",
     "text": [
      "I1\n",
      "I2\n",
      "I3\n",
      "I4\n",
      "I3\n",
      "I8\n",
      "I3\n",
      "I5\n",
      "I6\n",
      "I7\n"
     ]
    },
    {
     "data": {
      "text/plain": [
       "[]"
      ]
     },
     "execution_count": 74,
     "metadata": {},
     "output_type": "execute_result"
    }
   ],
   "source": [
    "au = root.findall('./fm/bibl/aug/au')\n",
    "data = []\n",
    "for atho in au:\n",
    "\n",
    "    for i in atho.iter('insr'):\n",
    "        print (i.attrib['iid'])\n",
    "        #data.append(i.attrib['iid'])\n",
    "data"
   ]
  },
  {
   "cell_type": "code",
   "execution_count": 56,
   "metadata": {},
   "outputs": [],
   "source": [
    "def appd():\n",
    "    atho = []\n",
    "    data = {'snm':None}\n",
    "    for i in range(5):\n",
    "        data['snm'] = i\n",
    "        atho.append(data)\n",
    "    return atho"
   ]
  },
  {
   "cell_type": "code",
   "execution_count": 57,
   "metadata": {},
   "outputs": [
    {
     "data": {
      "text/plain": [
       "[{'snm': 4}, {'snm': 4}, {'snm': 4}, {'snm': 4}, {'snm': 4}]"
      ]
     },
     "execution_count": 57,
     "metadata": {},
     "output_type": "execute_result"
    }
   ],
   "source": [
    "appd()"
   ]
  },
  {
   "cell_type": "code",
   "execution_count": 52,
   "metadata": {},
   "outputs": [],
   "source": [
    "a = [{'snm': 0}]\n",
    "a.append({'sum':1})"
   ]
  },
  {
   "cell_type": "code",
   "execution_count": 53,
   "metadata": {},
   "outputs": [
    {
     "data": {
      "text/plain": [
       "[{'snm': 0}, {'sum': 1}]"
      ]
     },
     "execution_count": 53,
     "metadata": {},
     "output_type": "execute_result"
    }
   ],
   "source": [
    "a"
   ]
  },
  {
   "cell_type": "code",
   "execution_count": 6,
   "metadata": {},
   "outputs": [
    {
     "name": "stdout",
     "output_type": "stream",
     "text": [
      "{'snm': 'Mei-Dan', 'fnm': 'Omer', 'email': 'omer@extremegate.com'}\n",
      "{'snm': 'Carmont', 'fnm': 'Mike', 'email': 'mcarmont@hotmail.com'}\n",
      "{'snm': 'Laver', 'fnm': 'Lior', 'email': 'laver17@gmail.com'}\n",
      "{'snm': 'Nyska', 'fnm': 'Meir', 'email': 'nyska@internet-zahav.net'}\n",
      "{'snm': 'Kammar', 'fnm': 'Hagay', 'email': 'kammarh@gmail.com'}\n",
      "{'snm': 'Mann', 'fnm': 'Gideon', 'email': 'gideon.mann.md@gmail.com'}\n",
      "{'snm': 'Clarck', 'fnm': 'Barnaby', 'email': 'barns.nz@gmail.com'}\n",
      "{'snm': 'Kots', 'fnm': 'Eugene', 'email': 'eukots@gmail.com'}\n",
      "[{'snm': 'Kots', 'fnm': 'Eugene', 'email': 'eukots@gmail.com'}, {'snm': 'Kots', 'fnm': 'Eugene', 'email': 'eukots@gmail.com'}, {'snm': 'Kots', 'fnm': 'Eugene', 'email': 'eukots@gmail.com'}, {'snm': 'Kots', 'fnm': 'Eugene', 'email': 'eukots@gmail.com'}, {'snm': 'Kots', 'fnm': 'Eugene', 'email': 'eukots@gmail.com'}, {'snm': 'Kots', 'fnm': 'Eugene', 'email': 'eukots@gmail.com'}, {'snm': 'Kots', 'fnm': 'Eugene', 'email': 'eukots@gmail.com'}, {'snm': 'Kots', 'fnm': 'Eugene', 'email': 'eukots@gmail.com'}]\n"
     ]
    }
   ],
   "source": [
    "if __name__ == '__main__':\n",
    "    print (get_au(root))"
   ]
  },
  {
   "cell_type": "code",
   "execution_count": 30,
   "metadata": {},
   "outputs": [],
   "source": []
  },
  {
   "cell_type": "code",
   "execution_count": 25,
   "metadata": {},
   "outputs": [],
   "source": [
    "a = [33,55,66]"
   ]
  },
  {
   "cell_type": "code",
   "execution_count": 34,
   "metadata": {},
   "outputs": [],
   "source": []
  },
  {
   "cell_type": "code",
   "execution_count": 5,
   "metadata": {},
   "outputs": [],
   "source": [
    "from bs4 import BeautifulSoup"
   ]
  },
  {
   "cell_type": "code",
   "execution_count": 8,
   "metadata": {},
   "outputs": [],
   "source": [
    "with open('options.html','r') as html:\n",
    "    soup = BeautifulSoup(html,'lxml')"
   ]
  },
  {
   "cell_type": "code",
   "execution_count": 25,
   "metadata": {},
   "outputs": [
    {
     "name": "stdout",
     "output_type": "stream",
     "text": [
      "None\n",
      "None\n",
      "None\n",
      "None\n",
      "None\n",
      "None\n",
      "None\n",
      "q\n",
      "None\n",
      "None\n",
      "txtSearch\n",
      "__EVENTTARGET\n",
      "__EVENTARGUMENT\n",
      "__VIEWSTATE\n",
      "__EVENTVALIDATION\n",
      "Submit\n",
      "btnDownLoad\n"
     ]
    }
   ],
   "source": [
    "for aa in soup.find_all('input'):\n",
    "    print (aa.get('id'))"
   ]
  },
  {
   "cell_type": "code",
   "execution_count": 57,
   "metadata": {},
   "outputs": [
    {
     "name": "stdout",
     "output_type": "stream",
     "text": [
      "All\n",
      "AllMajors\n",
      "ATL\n",
      "BWI\n",
      "BOS\n",
      "CLT\n",
      "MDW\n",
      "ORD\n",
      "DFW\n",
      "DEN\n",
      "DTW\n",
      "FLL\n",
      "IAH\n",
      "LAS\n",
      "LAX\n",
      "AllOthers\n",
      "ABR\n",
      "ABI\n"
     ]
    }
   ],
   "source": [
    "for options in soup.find_all(id='AirportList')[0].find_all('option'):\n",
    "    print (options.get('value'))"
   ]
  },
  {
   "cell_type": "code",
   "execution_count": 1,
   "metadata": {},
   "outputs": [],
   "source": [
    "import csv"
   ]
  },
  {
   "cell_type": "code",
   "execution_count": 67,
   "metadata": {},
   "outputs": [],
   "source": [
    "def check_uri(row_uri):\n",
    "    if 'dbpedia.org' in row_uri:\n",
    "        return True\n",
    "    else:\n",
    "        return False\n",
    "def check_year(row_year):\n",
    "    if row_year == 'NULL':\n",
    "        return False\n",
    "    else:\n",
    "        row_year = int(row_year)\n",
    "        if row_year in range(1886,2015):\n",
    "            return True\n",
    "        else:\n",
    "            return False    "
   ]
  },
  {
   "cell_type": "code",
   "execution_count": 24,
   "metadata": {},
   "outputs": [],
   "source": [
    "def write_fun(file,header,mydata):\n",
    "    with open(file, \"w\") as g:\n",
    "        writer = csv.DictWriter(g, delimiter=\",\", fieldnames= header)\n",
    "        writer.writeheader()\n",
    "        for row in mydata:\n",
    "            writer.writerow(row)"
   ]
  },
  {
   "cell_type": "code",
   "execution_count": 68,
   "metadata": {
    "scrolled": true
   },
   "outputs": [],
   "source": [
    "inputfile = 'autos.csv'\n",
    "good = 'good_csv.csv'\n",
    "bad = 'bad_csv.csv'\n",
    "good_file = []\n",
    "bad_file = []\n",
    "with open(inputfile,'r') as autos:\n",
    "    reader = csv.DictReader(autos)\n",
    "    header = reader.fieldnames  # 找到csv的表标题\n",
    "    for row in reader:\n",
    "        if check_uri(row['URI'].split('/')):\n",
    "            if check_year(row['productionStartYear'].split('-')[0]) is False:\n",
    "                #write to bad fiel\n",
    "                bad_file.append(row)\n",
    "            else:\n",
    "                row['productionStartYear'] = row['productionStartYear'].split('-')[0] #change the file to the value\n",
    "                #write to good file\n",
    "                good_file.append(row)\n",
    "                \n",
    "with open(good, \"w\") as g:\n",
    "    writer = csv.DictWriter(g, delimiter=\",\", fieldnames= header)\n",
    "    writer.writeheader()\n",
    "    for row in good_file:\n",
    "        writer.writerow(row)\n",
    "with open(bad, \"w\") as g:\n",
    "    writer = csv.DictWriter(g, delimiter=\",\", fieldnames= header)\n",
    "    writer.writeheader()\n",
    "    for row in bad_file:\n",
    "        writer.writerow(row)"
   ]
  },
  {
   "cell_type": "code",
   "execution_count": null,
   "metadata": {},
   "outputs": [],
   "source": []
  },
  {
   "cell_type": "code",
   "execution_count": 42,
   "metadata": {},
   "outputs": [],
   "source": [
    "import pandas as pd"
   ]
  },
  {
   "cell_type": "code",
   "execution_count": null,
   "metadata": {},
   "outputs": [],
   "source": [
    "def xxx(string):\n",
    "    "
   ]
  },
  {
   "cell_type": "code",
   "execution_count": 109,
   "metadata": {
    "scrolled": true
   },
   "outputs": [
    {
     "ename": "AttributeError",
     "evalue": "'Series' object has no attribute 'split'",
     "output_type": "error",
     "traceback": [
      "\u001b[1;31m---------------------------------------------------------------------------\u001b[0m",
      "\u001b[1;31mAttributeError\u001b[0m                            Traceback (most recent call last)",
      "\u001b[1;32m<ipython-input-109-2cd26d0777cf>\u001b[0m in \u001b[0;36m<module>\u001b[1;34m()\u001b[0m\n\u001b[1;32m----> 1\u001b[1;33m \u001b[0mpd\u001b[0m\u001b[1;33m.\u001b[0m\u001b[0mread_csv\u001b[0m\u001b[1;33m(\u001b[0m\u001b[1;34m'citys.csv'\u001b[0m\u001b[1;33m)\u001b[0m\u001b[1;33m[\u001b[0m\u001b[1;34m'areaLand'\u001b[0m\u001b[1;33m]\u001b[0m\u001b[1;33m.\u001b[0m\u001b[0msplit\u001b[0m\u001b[1;33m(\u001b[0m\u001b[1;34m'|'\u001b[0m\u001b[1;33m)\u001b[0m\u001b[1;33m\u001b[0m\u001b[0m\n\u001b[0m",
      "\u001b[1;32mC:\\ProgramData\\Anaconda3\\lib\\site-packages\\pandas\\core\\generic.py\u001b[0m in \u001b[0;36m__getattr__\u001b[1;34m(self, name)\u001b[0m\n\u001b[0;32m   4370\u001b[0m             \u001b[1;32mif\u001b[0m \u001b[0mself\u001b[0m\u001b[1;33m.\u001b[0m\u001b[0m_info_axis\u001b[0m\u001b[1;33m.\u001b[0m\u001b[0m_can_hold_identifiers_and_holds_name\u001b[0m\u001b[1;33m(\u001b[0m\u001b[0mname\u001b[0m\u001b[1;33m)\u001b[0m\u001b[1;33m:\u001b[0m\u001b[1;33m\u001b[0m\u001b[0m\n\u001b[0;32m   4371\u001b[0m                 \u001b[1;32mreturn\u001b[0m \u001b[0mself\u001b[0m\u001b[1;33m[\u001b[0m\u001b[0mname\u001b[0m\u001b[1;33m]\u001b[0m\u001b[1;33m\u001b[0m\u001b[0m\n\u001b[1;32m-> 4372\u001b[1;33m             \u001b[1;32mreturn\u001b[0m \u001b[0mobject\u001b[0m\u001b[1;33m.\u001b[0m\u001b[0m__getattribute__\u001b[0m\u001b[1;33m(\u001b[0m\u001b[0mself\u001b[0m\u001b[1;33m,\u001b[0m \u001b[0mname\u001b[0m\u001b[1;33m)\u001b[0m\u001b[1;33m\u001b[0m\u001b[0m\n\u001b[0m\u001b[0;32m   4373\u001b[0m \u001b[1;33m\u001b[0m\u001b[0m\n\u001b[0;32m   4374\u001b[0m     \u001b[1;32mdef\u001b[0m \u001b[0m__setattr__\u001b[0m\u001b[1;33m(\u001b[0m\u001b[0mself\u001b[0m\u001b[1;33m,\u001b[0m \u001b[0mname\u001b[0m\u001b[1;33m,\u001b[0m \u001b[0mvalue\u001b[0m\u001b[1;33m)\u001b[0m\u001b[1;33m:\u001b[0m\u001b[1;33m\u001b[0m\u001b[0m\n",
      "\u001b[1;31mAttributeError\u001b[0m: 'Series' object has no attribute 'split'"
     ]
    }
   ],
   "source": [
    "pd.read_csv('citys.csv')['areaLand'].split('|')"
   ]
  },
  {
   "cell_type": "code",
   "execution_count": 144,
   "metadata": {
    "scrolled": true
   },
   "outputs": [
    {
     "name": "stdout",
     "output_type": "stream",
     "text": [
      "False\n",
      "http://www.georss.org/georss/point\n",
      "http://www.w3.org/2003/01/geo/wgs84_pos#lat\n",
      "False\n",
      "XMLSchema#string\n",
      "XMLSchema#float\n",
      "False\n",
      "http://www.w3.org/2001/XMLSchema#string\n",
      "http://www.w3.org/2001/XMLSchema#float\n",
      "True\n",
      "33.08 75.28\n",
      "33.08\n",
      "True\n",
      "23.72 85.5\n",
      "23.72\n",
      "True\n",
      "24.37 77.05\n",
      "24.37\n",
      "True\n",
      "21.27 81.52\n",
      "21.27\n",
      "True\n",
      "13.02 77.03\n",
      "13.02\n",
      "True\n",
      "17.2 77.35\n",
      "17.2\n",
      "False\n",
      "34.789722222222224 -86.96944444444445\n",
      "34.7897\n",
      "False\n",
      "32.50944444444445 -87.83722222222222\n",
      "32.5094\n",
      "False\n",
      "33.329166666666666 -86.65083333333334\n",
      "33.3292\n",
      "False\n",
      "33.57083333333333 -86.27388888888889\n",
      "33.5708\n",
      "False\n",
      "33.25388888888889 -87.59222222222222\n",
      "33.2539\n",
      "False\n",
      "55.336666666666666 -160.49333333333334\n",
      "55.3367\n",
      "False\n",
      "53.888888888888886 -166.52722222222224\n",
      "53.8889\n",
      "False\n",
      "37.454166666666666 -122.17861111111111\n",
      "37.4542\n",
      "False\n",
      "60.49138888888889 -164.82611111111112\n",
      "60.4914\n",
      "False\n",
      "64.84361111111112 -147.72305555555556\n",
      "64.8436\n",
      "False\n",
      "59.643055555555556 -151.52583333333334\n",
      "59.6431\n",
      "True\n",
      "55.35 -131.67333333333335\n",
      "55.35\n",
      "False\n",
      "57.19722222222222 -153.30777777777777\n",
      "57.1972\n",
      "False\n",
      "46.89083333333333 -122.68972222222222\n",
      "46.8908\n",
      "False\n",
      "48.988055555555555 -122.74361111111111\n",
      "48.9881\n",
      "False\n",
      "48.84888888888889 -122.59027777777777\n",
      "48.8489\n",
      "False\n",
      "46.211666666666666 -119.99638888888889\n",
      "46.2117\n",
      "False\n",
      "46.40361111111111 -120.26083333333334\n",
      "46.4036\n",
      "False\n",
      "38.39972222222222 -82.57861111111112\n",
      "38.3997\n",
      "False\n",
      "43.006388888888885 -89.43138888888889\n",
      "43.0064\n",
      "False\n",
      "42.92111111111111 -89.22444444444444\n",
      "42.9211\n",
      "True\n",
      "43.2 -88.71666666666667\n",
      "43.2\n",
      "False\n",
      "43.81333333333333 -91.23305555555555\n",
      "43.8133\n",
      "False\n",
      "43.05888888888889 -88.0261111111111\n",
      "43.0589\n",
      "False\n",
      "44.57833333333333 -91.21833333333333\n",
      "44.5783\n",
      "False\n",
      "42.90123611111111 -88.1246388888889\n",
      "42.9012\n",
      "False\n",
      "44.62416666666667 -88.75805555555556\n",
      "44.6242\n",
      "False\n",
      "43.318333333333335 -88.3788888888889\n",
      "43.3183\n",
      "False\n",
      "47.67333333333333 -117.23944444444444\n",
      "47.6733\n",
      "True\n",
      "45.75 126.63333333333334\n",
      "45.75\n",
      "False\n",
      "51.516666666666666 7.466666666666667\n",
      "51.5167\n",
      "False\n",
      "42.270833333333336 -93.92694444444444\n",
      "42.2708\n",
      "False\n",
      "43.261944444444445 -93.64027777777778\n",
      "43.2619\n"
     ]
    }
   ],
   "source": [
    "citys = 'citys.csv'\n",
    "with open(citys,'r') as files:\n",
    "\n",
    "    reader = csv.DictReader(files)\n",
    "    header = reader.fieldnames\n",
    "\n",
    "    for row in reader:\n",
    "        \n",
    "        #print ((row['areaLand'].strip('{}')).split('|'))\n",
    "        print (row['point'].split(' ')[0] == row['wgs84_pos#lat'])  \n",
    "        print (row['point'])\n",
    "        print (row['wgs84_pos#lat'])        "
   ]
  },
  {
   "cell_type": "code",
   "execution_count": 131,
   "metadata": {},
   "outputs": [
    {
     "data": {
      "text/plain": [
       "101787000.0"
      ]
     },
     "execution_count": 131,
     "metadata": {},
     "output_type": "execute_result"
    }
   ],
   "source": [
    "float(['1.01787e+08', '1.019e+08'][0])"
   ]
  },
  {
   "cell_type": "code",
   "execution_count": null,
   "metadata": {},
   "outputs": [],
   "source": []
  }
 ],
 "metadata": {
  "kernelspec": {
   "display_name": "Python 3",
   "language": "python",
   "name": "python3"
  },
  "language_info": {
   "codemirror_mode": {
    "name": "ipython",
    "version": 3
   },
   "file_extension": ".py",
   "mimetype": "text/x-python",
   "name": "python",
   "nbconvert_exporter": "python",
   "pygments_lexer": "ipython3",
   "version": "3.6.5"
  }
 },
 "nbformat": 4,
 "nbformat_minor": 2
}
